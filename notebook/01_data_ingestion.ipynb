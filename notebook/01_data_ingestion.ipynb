{
 "cells": [
  {
   "cell_type": "code",
   "execution_count": 1,
   "metadata": {},
   "outputs": [],
   "source": [
    "import os"
   ]
  },
  {
   "cell_type": "code",
   "execution_count": 2,
   "metadata": {},
   "outputs": [
    {
     "data": {
      "text/plain": [
       "'c:\\\\Users\\\\Vincent\\\\Desktop\\\\Weather-Forecast-Trials\\\\notebook'"
      ]
     },
     "execution_count": 2,
     "metadata": {},
     "output_type": "execute_result"
    }
   ],
   "source": [
    "%pwd"
   ]
  },
  {
   "cell_type": "code",
   "execution_count": 3,
   "metadata": {},
   "outputs": [],
   "source": [
    "os.chdir(\"../\")"
   ]
  },
  {
   "cell_type": "code",
   "execution_count": 4,
   "metadata": {},
   "outputs": [
    {
     "data": {
      "text/plain": [
       "'c:\\\\Users\\\\Vincent\\\\Desktop\\\\Weather-Forecast-Trials'"
      ]
     },
     "execution_count": 4,
     "metadata": {},
     "output_type": "execute_result"
    }
   ],
   "source": [
    "%pwd"
   ]
  },
  {
   "cell_type": "code",
   "execution_count": 5,
   "metadata": {},
   "outputs": [],
   "source": [
    "## 3. Update the entity\n",
    "\n",
    "from dataclasses import dataclass\n",
    "from pathlib import Path\n",
    "\n",
    "@dataclass(frozen=True)\n",
    "class DataIngestionConfig:\n",
    "    root_dir: Path\n",
    "    input_data_path: Path\n",
    "    processed_data_path: Path\n",
    "    train_data_path: Path\n",
    "    test_data_path: Path\n"
   ]
  },
  {
   "cell_type": "code",
   "execution_count": 6,
   "metadata": {},
   "outputs": [],
   "source": [
    "## 3. Update the entity\n",
    "\n",
    "from src.constants import *\n",
    "from src.utils.common import read_yaml, create_directories"
   ]
  },
  {
   "cell_type": "code",
   "execution_count": 7,
   "metadata": {},
   "outputs": [],
   "source": [
    "## 4. Update the configuration manager in src config\n",
    "\n",
    "class ConfigurationManager:\n",
    "    def __init__(\n",
    "        self, \n",
    "        config_filepath = CONFIG_FILE_PATH):\n",
    "        \n",
    "        self.config = read_yaml(config_filepath)\n",
    "\n",
    "        create_directories([self.config.output_root])\n",
    "\n",
    "    def get_data_ingestion_config(self) -> DataIngestionConfig:\n",
    "        config = self.config.data_ingestion\n",
    "\n",
    "        create_directories([config.root_dir])\n",
    "\n",
    "        data_ingestion_config = DataIngestionConfig(\n",
    "            root_dir=config.root_dir,\n",
    "            input_data_path=config.input_data_path,\n",
    "            processed_data_path=config.processed_data_path,\n",
    "            train_data_path=config.train_data_path,\n",
    "            test_data_path=config.test_data_path\n",
    "        )\n",
    "\n",
    "        return data_ingestion_config\n"
   ]
  },
  {
   "cell_type": "code",
   "execution_count": 8,
   "metadata": {},
   "outputs": [],
   "source": [
    "## 5. Update the components\n",
    "\n",
    "import os\n",
    "import sys\n",
    "from src.exception import CustomException\n",
    "from src import logger\n",
    "import pandas as pd\n",
    "\n",
    "from sklearn.model_selection import StratifiedShuffleSplit\n",
    "from dataclasses import dataclass"
   ]
  },
  {
   "cell_type": "code",
   "execution_count": 9,
   "metadata": {},
   "outputs": [],
   "source": [
    "## 5. Update the components\n",
    "\n",
    "class DataIngestion:\n",
    "    def __init__(self, config: DataIngestionConfig):\n",
    "        self.config = config\n",
    "\n",
    "    def data_preprocessing_feature_engineering(self):\n",
    "        logger.info(\"Data preprocessing and feature engineering\") \n",
    "        \n",
    "        try:\n",
    "            weather_dataset = pd.read_csv(self.config.input_data_path)\n",
    "            \n",
    "            weather_dataset = weather_dataset[weather_dataset[\"RainTomorrow\"].notna()]\n",
    "\n",
    "            spring = [3,4,5]\n",
    "            summer = [6,7,8]\n",
    "            autumn = [9,10,11]\n",
    "            winter = [12,1,2]\n",
    "\n",
    "            # create a user-defined function, month_to_season, that takes in a list of month as a parameter and return the season\n",
    "\n",
    "            def month_to_season(month):\n",
    "                \"\"\"return the season of the year\"\"\"\n",
    "                if month in spring: \n",
    "                    return 'spring'\n",
    "                elif month in summer:\n",
    "                    return 'summer'\n",
    "                elif month in autumn:\n",
    "                    return 'autumn'\n",
    "                elif month in winter:\n",
    "                    return 'winter'\n",
    "\n",
    "            # convert the 'Date' column to a date-time datatype\n",
    "            # create a new 'month' column by extracting the month of the 'Date' column using df[].dt.month\n",
    "            # map the user-defined function, month_to_season, to the 'month' column of the dataset \n",
    "            # and assigned it to a new 'season' column\n",
    "\n",
    "            weather_dataset['Date'] = pd.to_datetime(weather_dataset['Date'], format='%Y-%m-%d')\n",
    "           \n",
    "            weather_dataset['month'] = weather_dataset['Date'].dt.month\n",
    "            \n",
    "            weather_dataset['season'] = weather_dataset['month'].map(month_to_season)\n",
    "\n",
    "            weather_dataset.drop(['Date', 'month'], axis=1, inplace=True)\n",
    "            \n",
    "            weather_dataset[\"RainToday\"] = weather_dataset[\"RainToday\"].map({'Yes': 1, 'No': 0})\n",
    "            \n",
    "            weather_dataset[\"RainTomorrow\"] = weather_dataset[\"RainTomorrow\"].map({'Yes': 1, 'No': 0})\n",
    "           \n",
    "            os.makedirs(os.path.dirname(self.config.processed_data_path),exist_ok=True)\n",
    "\n",
    "            weather_dataset.to_csv(self.config.processed_data_path,index=False,header=True)\n",
    "\n",
    "            return(\n",
    "                self.config.processed_data_path\n",
    "            )\n",
    "\n",
    "        except Exception as e:\n",
    "            raise CustomException(e,sys)    \n",
    "        \n",
    "\n",
    "    def complete_data_ingestion(self):\n",
    "        logger.info(\"Resume data ingestion method or component\") \n",
    "\n",
    "        try:  \n",
    "            logger.info('Read the dataset as dataframe')\n",
    "\n",
    "            df=pd.read_csv(self.config.processed_data_path)\n",
    "           \n",
    "            strat_shuff_split = StratifiedShuffleSplit(n_splits=1, test_size=0.3, random_state=42)\n",
    "        \n",
    "            X = df.drop(columns=['RainTomorrow'],axis=1)\n",
    "            \n",
    "            y = df['RainTomorrow']\n",
    "            \n",
    "            train_idx, test_idx = next(strat_shuff_split.split(X, y))\n",
    "            \n",
    "            train_set = df.loc[train_idx]\n",
    "            \n",
    "            test_set = df.loc[test_idx]\n",
    "\n",
    "            logger.info(\"Train test split initiated\")\n",
    "\n",
    "            os.makedirs(os.path.dirname(self.config.train_data_path),exist_ok=True)\n",
    "\n",
    "            train_set.to_csv(self.config.train_data_path,index=False,header=True)\n",
    "\n",
    "            test_set.to_csv(self.config.test_data_path,index=False,header=True)\n",
    "\n",
    "            logger.info(\"Ingestion of the data is completed\")\n",
    "\n",
    "            return(\n",
    "                self.config.train_data_path,\n",
    "                self.config.test_data_path\n",
    "\n",
    "            )\n",
    "        except Exception as e:\n",
    "            raise CustomException(e,sys)"
   ]
  },
  {
   "cell_type": "code",
   "execution_count": 10,
   "metadata": {},
   "outputs": [
    {
     "name": "stdout",
     "output_type": "stream",
     "text": [
      "[2024-07-11 19:36:00,088: INFO: common: yaml file: config\\config.yaml loaded successfully]\n",
      "[2024-07-11 19:36:00,089: INFO: common: created directory at: output]\n",
      "[2024-07-11 19:36:00,089: INFO: common: created directory at: output/data_ingestion]\n",
      "[2024-07-11 19:36:00,089: INFO: 3502513455: Data preprocessing and feature engineering]\n",
      "[2024-07-11 19:36:01,743: INFO: 3502513455: Resume data ingestion method or component]\n",
      "[2024-07-11 19:36:01,993: INFO: 3502513455: Read the dataset as dataframe]\n",
      "[2024-07-11 19:36:03,391: INFO: 3502513455: Train test split initiated]\n",
      "[2024-07-11 19:36:04,738: INFO: 3502513455: Ingestion of the data is completed]\n"
     ]
    }
   ],
   "source": [
    "## 6. Update the pipeline\n",
    "\n",
    "try:\n",
    "    config = ConfigurationManager()\n",
    "    data_ingestion_config = config.get_data_ingestion_config()\n",
    "    data_ingestion = DataIngestion(config=data_ingestion_config)\n",
    "    data_ingestion.data_preprocessing_feature_engineering()\n",
    "    data_ingestion.complete_data_ingestion()\n",
    "except Exception as e:\n",
    "  raise e"
   ]
  },
  {
   "cell_type": "code",
   "execution_count": null,
   "metadata": {},
   "outputs": [],
   "source": []
  },
  {
   "cell_type": "code",
   "execution_count": null,
   "metadata": {},
   "outputs": [],
   "source": []
  },
  {
   "cell_type": "code",
   "execution_count": null,
   "metadata": {},
   "outputs": [],
   "source": []
  }
 ],
 "metadata": {
  "kernelspec": {
   "display_name": "mlparamenv",
   "language": "python",
   "name": "python3"
  },
  "language_info": {
   "codemirror_mode": {
    "name": "ipython",
    "version": 3
   },
   "file_extension": ".py",
   "mimetype": "text/x-python",
   "name": "python",
   "nbconvert_exporter": "python",
   "pygments_lexer": "ipython3",
   "version": "3.8.19"
  }
 },
 "nbformat": 4,
 "nbformat_minor": 2
}
