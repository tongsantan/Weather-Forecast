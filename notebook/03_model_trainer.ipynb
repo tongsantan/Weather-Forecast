{
 "cells": [
  {
   "cell_type": "code",
   "execution_count": 1,
   "metadata": {},
   "outputs": [],
   "source": [
    "import os"
   ]
  },
  {
   "cell_type": "code",
   "execution_count": 2,
   "metadata": {},
   "outputs": [
    {
     "data": {
      "text/plain": [
       "'c:\\\\Users\\\\Vincent\\\\Desktop\\\\Weather-Forecast-Trials\\\\notebook'"
      ]
     },
     "execution_count": 2,
     "metadata": {},
     "output_type": "execute_result"
    }
   ],
   "source": [
    "%pwd"
   ]
  },
  {
   "cell_type": "code",
   "execution_count": 3,
   "metadata": {},
   "outputs": [],
   "source": [
    "os.chdir(\"../\")"
   ]
  },
  {
   "cell_type": "code",
   "execution_count": 4,
   "metadata": {},
   "outputs": [
    {
     "data": {
      "text/plain": [
       "'c:\\\\Users\\\\Vincent\\\\Desktop\\\\Weather-Forecast-Trials'"
      ]
     },
     "execution_count": 4,
     "metadata": {},
     "output_type": "execute_result"
    }
   ],
   "source": [
    "%pwd"
   ]
  },
  {
   "cell_type": "code",
   "execution_count": 5,
   "metadata": {},
   "outputs": [],
   "source": [
    "from dataclasses import dataclass\n",
    "from pathlib import Path\n",
    "\n",
    "@dataclass(frozen=True)\n",
    "class ModelTrainerConfig:\n",
    "    root_dir: Path\n",
    "    trained_model_file_path: Path\n",
    "    train_array_path: Path\n",
    "    test_array_path: Path"
   ]
  },
  {
   "cell_type": "code",
   "execution_count": 6,
   "metadata": {},
   "outputs": [],
   "source": [
    "from src.constants import *\n",
    "from src.utils.common import read_yaml, create_directories"
   ]
  },
  {
   "cell_type": "code",
   "execution_count": 7,
   "metadata": {},
   "outputs": [],
   "source": [
    "## Update the configuration manager in src config\n",
    "\n",
    "class ConfigurationManager:\n",
    "    def __init__(\n",
    "        self, \n",
    "        config_filepath = CONFIG_FILE_PATH):\n",
    "        \n",
    "        self.config = read_yaml(config_filepath)\n",
    "\n",
    "        create_directories([self.config.output_root])\n",
    "    \n",
    "    def get_model_trainer_config(self) -> ModelTrainerConfig:\n",
    "        config = self.config.model_trainer\n",
    "\n",
    "        create_directories([config.root_dir])\n",
    "\n",
    "        model_trainer_config = ModelTrainerConfig(\n",
    "            root_dir=config.root_dir,\n",
    "            trained_model_file_path=config.trained_model_file_path,\n",
    "            train_array_path=config.train_array_path,\n",
    "            test_array_path=config.test_array_path\n",
    "        )\n",
    "\n",
    "        return model_trainer_config"
   ]
  },
  {
   "cell_type": "code",
   "execution_count": 8,
   "metadata": {},
   "outputs": [],
   "source": [
    "## 5. Update the components\n",
    "\n",
    "import numpy as np\n",
    "import os\n",
    "import sys\n",
    "from dataclasses import dataclass\n",
    "from sklearn.metrics import confusion_matrix\n",
    "from src.exception import CustomException\n",
    "from src import logger\n",
    "from src.utils.common import save_object,evaluate_models\n",
    "from src.params import params\n",
    "from src.models import models\n",
    "import warnings\n",
    "warnings.filterwarnings(\"ignore\")"
   ]
  },
  {
   "cell_type": "code",
   "execution_count": 9,
   "metadata": {},
   "outputs": [],
   "source": [
    "## 5. Update the components\n",
    "\n",
    "class ModelTrainer:\n",
    "    def __init__(self, config:ModelTrainerConfig):\n",
    "        self.config=config\n",
    "\n",
    "\n",
    "    def initiate_model_trainer(self):\n",
    "        try:\n",
    "            train_array=np.load(self.config.train_array_path)\n",
    "            test_array=np.load(self.config.test_array_path)\n",
    "            logger.info(\"Split training and test input data\")\n",
    "            X_train,y_train,X_test,y_test=(\n",
    "                train_array[:,:-1],\n",
    "                train_array[:,-1],\n",
    "                test_array[:,:-1],\n",
    "                test_array[:,-1]\n",
    "            )\n",
    "\n",
    "            model_report:dict=evaluate_models(X_train=X_train,y_train=y_train,X_test=X_test,y_test=y_test,\n",
    "                                             models=models(),param=params())\n",
    "            \n",
    "            ## To get best model score from dict\n",
    "            best_model_score = max(sorted(model_report.values()))\n",
    "\n",
    "            ## To get best model name from dict\n",
    "            best_model_name = list(model_report.keys())[\n",
    "                list(model_report.values()).index(best_model_score)\n",
    "            ]\n",
    "            best_model = models()[best_model_name]\n",
    "\n",
    "            if best_model_score<0.6:\n",
    "                raise CustomException(\"No best model found\")\n",
    "            \n",
    "            logger.info(f\"Best found model on both training and testing dataset\")\n",
    "\n",
    "            save_object(\n",
    "                file_path=self.config.trained_model_file_path,\n",
    "                obj=best_model\n",
    "            )\n",
    "\n",
    "            best_model = best_model.fit(X_train, y_train)\n",
    "\n",
    "            predicted=best_model.predict(X_test)\n",
    "\n",
    "            cm = confusion_matrix(y_test, predicted)\n",
    "            \n",
    "            logger.info(f\"best model: {best_model_name}; best F1 score: {best_model_score}; confusion matrix: {cm};\")\n",
    "            \n",
    "            return best_model_name, best_model_score, cm\n",
    "            \n",
    "\n",
    "        except Exception as e:\n",
    "            raise CustomException(e,sys)"
   ]
  },
  {
   "cell_type": "code",
   "execution_count": 10,
   "metadata": {},
   "outputs": [
    {
     "name": "stdout",
     "output_type": "stream",
     "text": [
      "[2024-07-11 21:14:43,233: INFO: common: yaml file: config\\config.yaml loaded successfully]\n",
      "[2024-07-11 21:14:43,233: INFO: common: created directory at: output]\n",
      "[2024-07-11 21:14:43,233: INFO: common: created directory at: output/model_trainer]\n",
      "[[-0.24647819  0.23498784 -0.27536409 ...  0.          0.\n",
      "   0.        ]\n",
      " [-0.96619454 -1.14146495 -0.08597762 ...  0.21505166  0.88357648\n",
      "   0.        ]\n",
      " [ 1.94396291  2.55248488 -0.27536409 ...  0.43010333  1.76715297\n",
      "   0.        ]\n",
      " ...\n",
      " [ 1.69362678  1.52716801 -0.27536409 ...  1.72041332  1.76715297\n",
      "   0.        ]\n",
      " [ 0.39500813  1.00748685 -0.27536409 ...  2.79567164  0.88357648\n",
      "   0.        ]\n",
      " [ 0.55146821  0.44566939 -0.27536409 ...  1.93546498  0.\n",
      "   0.        ]]\n",
      "[[ 1.19295453  0.65635094 -0.27536409 ...  0.21505166  1.76715297\n",
      "   1.        ]\n",
      " [ 0.98955643  0.10857891 -0.18067086 ...  1.29030999  1.76715297\n",
      "   0.        ]\n",
      " [-0.43423028 -0.28469332 -0.27536409 ...  1.93546498  0.\n",
      "   0.        ]\n",
      " ...\n",
      " [-0.46552229 -0.76223816  0.17442877 ...  2.36556831  2.65072945\n",
      "   1.        ]\n",
      " [ 1.27118457  2.69293925 -0.27536409 ...  3.22577497  1.76715297\n",
      "   0.        ]\n",
      " [ 1.49022868  0.85298705 -0.06230431 ...  0.43010333  1.76715297\n",
      "   1.        ]]\n",
      "[2024-07-11 21:14:43,265: INFO: 1744247501: Split training and test input data]\n",
      "[2024-07-11 21:19:35,518: INFO: 1744247501: Best found model on both training and testing dataset]\n"
     ]
    }
   ],
   "source": [
    "## 6. Update the pipeline\n",
    "\n",
    "try:\n",
    "    config = ConfigurationManager()\n",
    "    model_trainer_config = config.get_model_trainer_config()\n",
    "    model_trainer = ModelTrainer(config=model_trainer_config)\n",
    "    model_trainer.initiate_model_trainer()\n",
    "except Exception as e:\n",
    "  raise e"
   ]
  },
  {
   "cell_type": "code",
   "execution_count": null,
   "metadata": {},
   "outputs": [],
   "source": []
  },
  {
   "cell_type": "code",
   "execution_count": null,
   "metadata": {},
   "outputs": [],
   "source": []
  },
  {
   "cell_type": "code",
   "execution_count": null,
   "metadata": {},
   "outputs": [],
   "source": []
  },
  {
   "cell_type": "code",
   "execution_count": null,
   "metadata": {},
   "outputs": [],
   "source": []
  },
  {
   "cell_type": "code",
   "execution_count": null,
   "metadata": {},
   "outputs": [],
   "source": []
  },
  {
   "cell_type": "code",
   "execution_count": null,
   "metadata": {},
   "outputs": [],
   "source": []
  },
  {
   "cell_type": "code",
   "execution_count": null,
   "metadata": {},
   "outputs": [],
   "source": []
  }
 ],
 "metadata": {
  "kernelspec": {
   "display_name": "mlparamenv",
   "language": "python",
   "name": "python3"
  },
  "language_info": {
   "codemirror_mode": {
    "name": "ipython",
    "version": 3
   },
   "file_extension": ".py",
   "mimetype": "text/x-python",
   "name": "python",
   "nbconvert_exporter": "python",
   "pygments_lexer": "ipython3",
   "version": "3.8.19"
  }
 },
 "nbformat": 4,
 "nbformat_minor": 2
}
